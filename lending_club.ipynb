{
 "cells": [
  {
   "cell_type": "markdown",
   "id": "542904d0",
   "metadata": {},
   "source": [
    "#### Import Libraries"
   ]
  },
  {
   "cell_type": "code",
   "execution_count": null,
   "id": "541cf4f9-f129-4cf5-adf1-41eedc78afbd",
   "metadata": {},
   "outputs": [],
   "source": [
    "import pandas as pd\n",
    "import numpy as np\n",
    "import matplotlib.pyplot as plt\n",
    "import seaborn as sns\n",
    "import warnings\n",
    "import math\n",
    "warnings.filterwarnings(\"ignore\")\n",
    "sns.set_style(\"white\")\n",
    "sns.set_palette(\"deep\")"
   ]
  },
  {
   "cell_type": "markdown",
   "id": "c223504c-19fb-4e59-9b9b-9aa7f067b050",
   "metadata": {},
   "source": [
    "#### Business Objectives\n",
    "This company is the largest online loan marketplace, facilitating personal loans, business loans, and financing of medical procedures. Borrowers can easily access lower interest rate loans through a fast online interface. \n",
    "\n",
    " \n",
    "\n",
    "Like most other lending companies, lending loans to ‘risky’ applicants is the largest source of financial loss (called credit loss). Credit loss is the amount of money lost by the lender when the borrower refuses to pay or runs away with the money owed. In other words, borrowers who default cause the largest amount of loss to the lenders. In this case, the customers labelled as 'charged-off' are the 'defaulters'. \n",
    "\n",
    " \n",
    "\n",
    "If one is able to identify these risky loan applicants, then such loans can be reduced thereby cutting down the amount of credit loss. Identification of such applicants using EDA is the aim of this case study.\n",
    "\n",
    " \n",
    "\n",
    "In other words, the company wants to understand the driving factors (or driver variables) behind loan default, i.e. the variables which are strong indicators of default.  The company can utilise this knowledge for its portfolio and risk assessment. \n",
    "\n",
    "\n",
    "To develop your understanding of the domain, you are advised to independently research a little about risk analytics (understanding the types of variables and their significance should be enough)."
   ]
  },
  {
   "cell_type": "code",
   "execution_count": null,
   "id": "f4b96cc2-ef34-4d77-9fb7-99813ba7384f",
   "metadata": {},
   "outputs": [],
   "source": [
    "df = pd.read_csv(\"loan.csv\")\n",
    "df.head()"
   ]
  },
  {
   "cell_type": "code",
   "execution_count": null,
   "id": "8c842be7-49e8-4935-870c-fabfb05b60a9",
   "metadata": {},
   "outputs": [],
   "source": [
    "rows = df.shape[0]\n",
    "columns = df.shape[1]\n",
    "df.shape"
   ]
  },
  {
   "cell_type": "markdown",
   "id": "b61ead74-8c8b-475b-aa7e-4fc909953c4a",
   "metadata": {},
   "source": [
    "The dataset has 39717 rows with each row having 111 columns"
   ]
  },
  {
   "cell_type": "markdown",
   "id": "ab898b7e-7f5b-4498-a9af-af586fb36042",
   "metadata": {},
   "source": [
    "#### Perform data cleaning\n",
    "1. Fix rows and columns\n",
    "2. Fixing missing values\n",
    "3. Standardize values and fix invalid values\n",
    "5. Filter data"
   ]
  },
  {
   "cell_type": "markdown",
   "id": "c2d51180-e590-4f72-919a-6a1721189f63",
   "metadata": {},
   "source": [
    "#### 1. Fixing rows and columns\n"
   ]
  },
  {
   "cell_type": "markdown",
   "id": "1c09bdab-08ca-4011-a7d4-4827868f7467",
   "metadata": {},
   "source": [
    "##### 1.1 Fixing columns\n"
   ]
  },
  {
   "cell_type": "markdown",
   "id": "15788b3d-6482-4768-a74e-25c1c3a60f26",
   "metadata": {},
   "source": [
    "Lets try to analyse what is the distribution of nulls across columns"
   ]
  },
  {
   "cell_type": "code",
   "execution_count": null,
   "id": "f02d36b6-6e15-45f7-b408-43176d0962cf",
   "metadata": {},
   "outputs": [],
   "source": [
    "null_analysis = (df.isnull().sum().sort_values(ascending=False)).to_frame(name=\"null_cnt\")\n",
    "# compute null percent which % of nulls in a given column\n",
    "null_analysis['null_pct'] = round(100 * null_analysis['null_cnt'] / rows, 2)\n",
    "null_analysis['null_pct'].value_counts()"
   ]
  },
  {
   "cell_type": "markdown",
   "id": "1d0e7bf1-eab7-468d-902e-aaa4051c1a5c",
   "metadata": {},
   "source": [
    "We can observe that for 54 columns there is no data available at all. Hence we can drop them from our analysis"
   ]
  },
  {
   "cell_type": "code",
   "execution_count": null,
   "id": "279fd74a-4d72-40b4-b31f-cd053b58c2b3",
   "metadata": {},
   "outputs": [],
   "source": [
    "df = df.dropna(axis=1, how=\"all\")"
   ]
  },
  {
   "cell_type": "code",
   "execution_count": null,
   "id": "8f93ab44-09eb-441e-8e32-431f6695641d",
   "metadata": {},
   "outputs": [],
   "source": [
    "df.shape"
   ]
  },
  {
   "cell_type": "markdown",
   "id": "cc643b18-57cb-40c1-8f92-604b01c61296",
   "metadata": {},
   "source": [
    "Another set of columns eligible for dropping are where all rows have same constant value. From such columns we can never derive any useful information"
   ]
  },
  {
   "cell_type": "code",
   "execution_count": null,
   "id": "0929d606-79f6-4c9c-a608-78878165c23e",
   "metadata": {},
   "outputs": [],
   "source": [
    "constant_columns = df.nunique()[df.nunique() == 1]\n",
    "constant_columns"
   ]
  },
  {
   "cell_type": "code",
   "execution_count": null,
   "id": "9d61e7db-25b2-4e23-9e80-14071c8f7698",
   "metadata": {},
   "outputs": [],
   "source": [
    "df = df.drop(constant_columns.index, axis=1)"
   ]
  },
  {
   "cell_type": "markdown",
   "id": "fe6da34e-3674-4836-ae0a-164fbef9d4c8",
   "metadata": {},
   "source": [
    "Also columns having unique values for all rows (like an id) can be dropped"
   ]
  },
  {
   "cell_type": "code",
   "execution_count": null,
   "id": "7fe08969-b288-4253-8d89-99a7b68cb9f1",
   "metadata": {},
   "outputs": [],
   "source": [
    "uniques = df.nunique()\n",
    "uniques = uniques[uniques == df.shape[0]]\n",
    "uniques.index"
   ]
  },
  {
   "cell_type": "code",
   "execution_count": null,
   "id": "6148df5c-b0d9-486d-9a7c-a7b9d3859679",
   "metadata": {},
   "outputs": [],
   "source": [
    "df = df.drop(uniques.index, axis=1)"
   ]
  },
  {
   "cell_type": "markdown",
   "id": "7da72342-06f9-4cde-b2a4-1a4cf9bfa7ab",
   "metadata": {},
   "source": [
    "Now lets look at the remaining columns in the dataset"
   ]
  },
  {
   "cell_type": "markdown",
   "id": "b479e645-47cc-40fe-8a17-a265b09d79a7",
   "metadata": {},
   "source": [
    "Still there are lot of columns which are irrelevant for this analysis\n",
    "\n",
    "- string columns like emp_tile, title and desc can be dropped.\n",
    "\n",
    "- funded_amnt and funded_amnt_inv are similar. Lets drop funded_amnt_inv\n",
    "\n",
    "- zip code is not complete. For example 945xx. Lets drop it\n",
    "\n",
    "- A lot of columns describe behavior of the customer after they have been acquired i.e loan was sanctioned. These columns cannot provide any insights to us as our analysis begins before the loan gets sanctioned. For example - collection_recovery_fee, last_credit_pull_d delinq_2yrs etc"
   ]
  },
  {
   "cell_type": "code",
   "execution_count": null,
   "id": "a539e786-50da-481f-a104-a5d892218940",
   "metadata": {},
   "outputs": [],
   "source": [
    "df = df.drop(['title', \"emp_title\", \"desc\",\"zip_code\", \"funded_amnt_inv\",\"collection_recovery_fee\", \"last_credit_pull_d\", \"delinq_2yrs\", \"mths_since_last_delinq\", \"mths_since_last_record\", \"total_pymnt\", \"total_pymnt_inv\", \"total_rec_int\", \"total_rec_late_fee\", \"recoveries\", \"collection_recovery_fee\", \"last_pymnt_d\", \"last_pymnt_amnt\", \"next_pymnt_d\", \"last_credit_pull_d\",\"total_rec_prncp\", \"out_prncp_inv\", \"out_prncp\", \"revol_bal\", \"revol_util\"], axis=1)"
   ]
  },
  {
   "cell_type": "code",
   "execution_count": null,
   "id": "30e94dae-f85f-4d9c-a78c-989d3bc983e8",
   "metadata": {},
   "outputs": [],
   "source": [
    "df.shape"
   ]
  },
  {
   "cell_type": "markdown",
   "id": "0aa36b53-cf28-47af-b93c-dccf1558858e",
   "metadata": {},
   "source": [
    "##### 1.2 Fixing rows\n"
   ]
  },
  {
   "cell_type": "markdown",
   "id": "9b782857-1914-463d-9b04-8d51654d8b74",
   "metadata": {},
   "source": [
    "Lets check the dataset, whether it has any header/footer or summary rows which can be dropped\n"
   ]
  },
  {
   "cell_type": "code",
   "execution_count": null,
   "id": "58dc7a97-852f-419b-a8a4-cc1a079d8297",
   "metadata": {},
   "outputs": [],
   "source": [
    "df.columns"
   ]
  },
  {
   "cell_type": "markdown",
   "id": "d79d9042-bca2-492d-a390-c4ff5deb8b24",
   "metadata": {},
   "source": [
    "Here we can clearly see, all columns are present in the metadata file **Data_Dictionary.xlsx** and none of them are any header/footer or summary columns"
   ]
  },
  {
   "cell_type": "markdown",
   "id": "1cda3462-7eb7-4f41-804a-e6b124f86f96",
   "metadata": {},
   "source": [
    "Now we can check if any rows are duplicates of each other. If yes we can drop the duplicates"
   ]
  },
  {
   "cell_type": "code",
   "execution_count": null,
   "id": "cd566399-0446-4727-8470-3c07ac4a4c5b",
   "metadata": {},
   "outputs": [],
   "source": [
    "df = df.drop_duplicates()\n",
    "df.shape"
   ]
  },
  {
   "cell_type": "markdown",
   "id": "d8052505-ee87-438f-a50c-1d98a3f77fa2",
   "metadata": {},
   "source": [
    "Since the number of rows didn't change there were no duplicates in the dataset"
   ]
  },
  {
   "cell_type": "code",
   "execution_count": null,
   "id": "98e3bc00",
   "metadata": {},
   "outputs": [],
   "source": [
    "df.isna().sum(axis=1)"
   ]
  },
  {
   "cell_type": "markdown",
   "id": "fbbdf690-8628-478b-9883-d41a18d01547",
   "metadata": {},
   "source": [
    "Lets try to analyse what is the distribution of nulls for rows. We can safely remove rows where lot of its columns have null values\n"
   ]
  },
  {
   "cell_type": "code",
   "execution_count": null,
   "id": "d0c7d59a",
   "metadata": {},
   "outputs": [],
   "source": [
    "df"
   ]
  },
  {
   "cell_type": "code",
   "execution_count": null,
   "id": "db8bfc26-6283-47a7-a00f-da36137f6c4f",
   "metadata": {},
   "outputs": [],
   "source": [
    "df.isna().sum(axis=1).max()"
   ]
  },
  {
   "cell_type": "markdown",
   "id": "0cf01746-fae0-4cbf-8178-dc444f8629d7",
   "metadata": {},
   "source": [
    "Rows look good. Not many nulls"
   ]
  },
  {
   "cell_type": "markdown",
   "id": "1cd93a96-b2e6-491a-908f-afe07a00fa3c",
   "metadata": {},
   "source": [
    "#### 2. Fixing missing values\n"
   ]
  },
  {
   "cell_type": "markdown",
   "id": "3668eed7-9567-4edc-916b-320050be6d71",
   "metadata": {},
   "source": [
    "After removing irrelevant columns lets analyse the missing values"
   ]
  },
  {
   "cell_type": "code",
   "execution_count": null,
   "id": "1880fe46",
   "metadata": {},
   "outputs": [],
   "source": [
    "(df.isna().sum()[df.isna().sum() > 0]/df.shape[0])*100"
   ]
  },
  {
   "cell_type": "code",
   "execution_count": null,
   "id": "3ae608e0-c877-4af7-b007-ec48a5fe4923",
   "metadata": {},
   "outputs": [],
   "source": [
    "((df.isna().sum()[df.isna().sum() > 0]) / df.shape[0]) * 100"
   ]
  },
  {
   "cell_type": "markdown",
   "id": "c834f554-4262-41f3-80c0-0e7d82c0e8a7",
   "metadata": {},
   "source": [
    "Only two columns have some nulls. Lets try to fix those values. Since very few rows have this problem, we can just put the mode in the place of empty"
   ]
  },
  {
   "cell_type": "code",
   "execution_count": null,
   "id": "32d17b16-4129-4cfa-bbc2-91e4a2580589",
   "metadata": {},
   "outputs": [],
   "source": [
    "df['emp_length'] = df['emp_length'].fillna(df['emp_length'].mode().values[0])"
   ]
  },
  {
   "cell_type": "code",
   "execution_count": null,
   "id": "fc97b10b-be26-477d-835a-2e4402c7fe83",
   "metadata": {},
   "outputs": [],
   "source": [
    "df['pub_rec_bankruptcies'] = df['pub_rec_bankruptcies'].fillna(df['pub_rec_bankruptcies'].mode().values[0])"
   ]
  },
  {
   "cell_type": "code",
   "execution_count": null,
   "id": "76d9b50b",
   "metadata": {},
   "outputs": [],
   "source": [
    "df.info()"
   ]
  },
  {
   "cell_type": "markdown",
   "id": "0f3da3e9-731e-427d-8881-f99d5ce76059",
   "metadata": {},
   "source": [
    "#### 3. Standardize columns\n"
   ]
  },
  {
   "cell_type": "markdown",
   "id": "a1082aff-f639-4498-b1b2-a48df763a370",
   "metadata": {},
   "source": [
    "We will inspect the columns and fix types and any outliers present. Outliers will negatively impact our analysis. We can follow a rule  [Q1 – 1.5 IQR, Q3 + 1.5 IQR] as range for data. We will use boxplot for our outlier analysis"
   ]
  },
  {
   "cell_type": "code",
   "execution_count": null,
   "id": "5b034956-2480-4bcb-8fde-1eb82f154482",
   "metadata": {},
   "outputs": [],
   "source": [
    "def outlier_range(df, column_name):\n",
    "    q1 = df[column_name].quantile(0.25)\n",
    "    q3 = df[column_name].quantile(0.75)\n",
    "    iqr = q3 - q1\n",
    "    lower_limit = q1 - 1.5 * iqr\n",
    "    upper_limit = q3 + 1.5 * iqr\n",
    "    return (lower_limit, upper_limit)"
   ]
  },
  {
   "cell_type": "markdown",
   "id": "15f3e69a-6326-4686-a5c9-36385d150ff8",
   "metadata": {},
   "source": [
    "#####  1. int_rate"
   ]
  },
  {
   "cell_type": "code",
   "execution_count": null,
   "id": "2100878c-b565-4b10-87bb-7c262f153913",
   "metadata": {},
   "outputs": [],
   "source": [
    "df['int_rate'] = df['int_rate'].apply(lambda x: x[:-1]).astype(\"float64\") # Removing the percentage sign to make it numeric"
   ]
  },
  {
   "cell_type": "code",
   "execution_count": null,
   "id": "bf59d6f5-29b6-431f-9b0c-63488615a06d",
   "metadata": {},
   "outputs": [],
   "source": [
    "sns.boxplot(data=df, y=\"int_rate\")\n",
    "plt.show()"
   ]
  },
  {
   "cell_type": "markdown",
   "id": "a1963b55-f202-4b5f-8f65-dc5883c177da",
   "metadata": {},
   "source": [
    "Since int_rate is a continuous variable, it makes sense creating ranges out of it to analyse"
   ]
  },
  {
   "cell_type": "code",
   "execution_count": null,
   "id": "bc87dae7-5c64-4f2e-8e0f-4bf697e6bc31",
   "metadata": {},
   "outputs": [],
   "source": [
    "df['int_rate'].describe()"
   ]
  },
  {
   "cell_type": "code",
   "execution_count": null,
   "id": "c90dcf61-d081-4939-996c-fad0a61bd45d",
   "metadata": {},
   "outputs": [],
   "source": [
    "df['int_rate_range'] = pd.cut(df['int_rate'], bins=[0,10, 12.5, 15, 25], labels=[\"0-10%\", \"10-12.5%\", \"12.5-15%\", '15%+'] , precision=0)"
   ]
  },
  {
   "cell_type": "markdown",
   "id": "c1ae1097-22b7-4ec9-80cf-3ec9759dcfe4",
   "metadata": {},
   "source": [
    "#####  2. sub_grade"
   ]
  },
  {
   "cell_type": "code",
   "execution_count": null,
   "id": "180bc83a-70d5-4785-bfe2-1b92026d7ab2",
   "metadata": {},
   "outputs": [],
   "source": [
    "def check_sub_grade(row):\n",
    "    \"\"\"\n",
    "    Checks if sub grade's grade matches\n",
    "    For example A1 grade should be A and not B\n",
    "    \"\"\"\n",
    "    return row['grade'] == row['sub_grade'][0]\n",
    "\n",
    "df[[\"grade\", \"sub_grade\"]].apply(check_sub_grade, axis=1).sum()"
   ]
  },
  {
   "cell_type": "markdown",
   "id": "3451e476-ee5a-4898-9c24-9cdb0bbf6a02",
   "metadata": {},
   "source": [
    "We can see sub_grade is valid. Since sub grade includes the grade prefix we can drop that and just have an ordinal number as the sub grade. For example A2 can be changed to just 2"
   ]
  },
  {
   "cell_type": "code",
   "execution_count": null,
   "id": "c84a0d46-7073-410d-b7d2-bca9b5b185f2",
   "metadata": {},
   "outputs": [],
   "source": [
    "df['sub_grade'] = df['sub_grade'].apply(lambda x : x[1:]).astype(\"int64\")"
   ]
  },
  {
   "cell_type": "markdown",
   "id": "a1df542e-d482-4de1-a5a4-a122d3a12332",
   "metadata": {},
   "source": [
    "#####  3. emp_length"
   ]
  },
  {
   "cell_type": "code",
   "execution_count": null,
   "id": "93975c1c-006e-4634-ad65-83e74f534678",
   "metadata": {},
   "outputs": [],
   "source": [
    "df['emp_length'].value_counts()"
   ]
  },
  {
   "cell_type": "markdown",
   "id": "21f975b0-a6c5-4a93-8299-7dfbaea9632d",
   "metadata": {},
   "source": [
    "Lets make emp_length as numeric ordinal. We can have the units as years. <1 years can be treated as 0 where as 10+ can be treated as 10 for this analysis."
   ]
  },
  {
   "cell_type": "code",
   "execution_count": null,
   "id": "cc0f7f5c-4aa5-442b-85c5-ed0864d8020c",
   "metadata": {},
   "outputs": [],
   "source": [
    "def parse_emp_length(length):\n",
    "    length = str(length)\n",
    "    # Note - this function is very specific to the dataset. This may not work if dataset changes\n",
    "    if \"<\" in length:\n",
    "        return 0\n",
    "    elif \"+\" in length:\n",
    "        return 10\n",
    "    else:\n",
    "        return int(length[0])\n",
    "\n",
    "df['emp_length'] = df['emp_length'].apply(parse_emp_length)"
   ]
  },
  {
   "cell_type": "markdown",
   "id": "bd2af82e-0c58-4de3-9bb0-2a7628666e2b",
   "metadata": {},
   "source": [
    "From employment length we can derive experience level. Junior (0-3years), Senior (3-7years) and Staff (7+years)"
   ]
  },
  {
   "cell_type": "code",
   "execution_count": null,
   "id": "a1a87703-15e6-4a80-bf32-94119e584fce",
   "metadata": {},
   "outputs": [],
   "source": [
    "df['exp_level'] = pd.cut(df['emp_length'], bins=[0,3,7,10], include_lowest=True, labels=[\"Junior\", \"Senior\", \"Staff\"])"
   ]
  },
  {
   "cell_type": "code",
   "execution_count": null,
   "id": "17d83050",
   "metadata": {},
   "outputs": [],
   "source": [
    "df['emp_length']"
   ]
  },
  {
   "cell_type": "markdown",
   "id": "8366f10d-28a0-4078-bc09-7b5eaffc55ef",
   "metadata": {},
   "source": [
    "#####  4. issue_d and earliest_cr_line"
   ]
  },
  {
   "cell_type": "markdown",
   "id": "fe0c38b7-cbd3-472c-97f1-c9e669958757",
   "metadata": {},
   "source": [
    "The issue_d/earliest_cr_line columns comprises of month and year. We can store this information in separate columns and drop issue_d & earliest_cr_line after that"
   ]
  },
  {
   "cell_type": "code",
   "execution_count": null,
   "id": "1f4eda94-ddb4-41c3-8b8e-de2fe5441008",
   "metadata": {},
   "outputs": [],
   "source": [
    "df['issue_year'] = pd.to_datetime(df['issue_d'], format='%b-%y').apply(lambda x: x.year)\n",
    "df['issue_month'] = pd.to_datetime(df['issue_d'], format='%b-%y').apply(lambda x: x.month_name()[0:3])\n",
    "df['earliest_cr_line_year'] = pd.to_datetime(df['earliest_cr_line'], format='%b-%y').apply(lambda x: x.year)\n",
    "max_issue_year = df['issue_year'].max()\n",
    "df['earliest_cr_line_year'] = df['earliest_cr_line_year'].apply(lambda x: x - 100 if x > max_issue_year else x)\n",
    "\n",
    "labels = [f\"{x}\" for x in range(1940,2020,10)]\n",
    "\n",
    "df['earliest_cr_line_decade'] = pd.cut(df['earliest_cr_line_year'], bins=len(labels), labels=labels , precision=0)\n",
    "\n",
    "df = df.drop([\"issue_d\",\"earliest_cr_line\",\"earliest_cr_line_year\"], axis=1)"
   ]
  },
  {
   "cell_type": "markdown",
   "id": "df8c196d-4a12-4eca-bdeb-bd1f6b561510",
   "metadata": {},
   "source": [
    "#####  5. pub_rec / pub_rec_bankruptcies"
   ]
  },
  {
   "cell_type": "code",
   "execution_count": null,
   "id": "87a3034e-1067-4d86-8e57-58532f6b04e4",
   "metadata": {},
   "outputs": [],
   "source": [
    "df['pub_rec_bankruptcies'] = pd.cut(df['pub_rec_bankruptcies'], bins=[-1,0,3], labels=[\"0\", \"1+\"])"
   ]
  },
  {
   "cell_type": "code",
   "execution_count": null,
   "id": "7ee19b8f-efda-4134-b19c-31f83092e79f",
   "metadata": {},
   "outputs": [],
   "source": [
    "df['pub_rec'] = pd.cut(df['pub_rec'], bins=[-1,0,5], labels=[\"0\", \"1+\"])"
   ]
  },
  {
   "cell_type": "markdown",
   "id": "d7fb3180-2454-4b8e-9170-775d12c73055",
   "metadata": {},
   "source": [
    "##### 6. annual_inc\n"
   ]
  },
  {
   "cell_type": "markdown",
   "id": "be2bdd1d-6e50-4628-812b-8d86d860b424",
   "metadata": {},
   "source": [
    "Lets plot a boxplot to observe the outliers in annual_inc data"
   ]
  },
  {
   "cell_type": "code",
   "execution_count": null,
   "id": "38f99504-7671-4ff7-8678-2f3cf09489e1",
   "metadata": {},
   "outputs": [],
   "source": [
    "sns.boxplot(data=df, x=\"annual_inc\")\n",
    "plt.show()"
   ]
  },
  {
   "cell_type": "markdown",
   "id": "d675f333-65a7-4ac9-a3a4-ac292b3ccdd2",
   "metadata": {},
   "source": [
    "As we can observe there are too many outliers here. We cannot even see the 25th & 75th percentile in this graph properly. Lets weed out most of the outliers here"
   ]
  },
  {
   "cell_type": "code",
   "execution_count": null,
   "id": "494bbeff-94d3-4d0c-adcf-daabd7fcedf0",
   "metadata": {},
   "outputs": [],
   "source": [
    "lower_limit, upper_limit = outlier_range(df, \"annual_inc\")\n",
    "print(f\"Lower Limit: {lower_limit}\")\n",
    "print(f\"Upper Limit: {upper_limit}\")"
   ]
  },
  {
   "cell_type": "code",
   "execution_count": null,
   "id": "f0dd150a-c80e-4725-a71f-93cc5c322c79",
   "metadata": {},
   "outputs": [],
   "source": [
    "df = df[(df['annual_inc'] <= upper_limit)]"
   ]
  },
  {
   "cell_type": "code",
   "execution_count": null,
   "id": "f67a7111-b54e-4ea4-8158-b9b94aca971d",
   "metadata": {},
   "outputs": [],
   "source": [
    "sns.boxplot(data=df, y=\"annual_inc\")\n",
    "plt.show()"
   ]
  },
  {
   "cell_type": "markdown",
   "id": "e461dd84-6b83-4a77-ad3a-8567e6b90147",
   "metadata": {},
   "source": [
    "Now outliers have been reduced substantially. Since annual_inc is a continuous variable, we can create ranges for better analysis"
   ]
  },
  {
   "cell_type": "code",
   "execution_count": null,
   "id": "1ac8fe40-5923-46d5-9304-a48aafdae1d4",
   "metadata": {},
   "outputs": [],
   "source": [
    "print(f\"Min income: {df['annual_inc'].min()} and max income: {df['annual_inc'].max()}\")"
   ]
  },
  {
   "cell_type": "markdown",
   "id": "afa9e648-0473-400a-bfc3-c89ec791019b",
   "metadata": {},
   "source": [
    "Lets create 6 buckets here each of 25K"
   ]
  },
  {
   "cell_type": "code",
   "execution_count": null,
   "id": "0629f51c-5bcf-46e0-87bf-f1705aeb71e2",
   "metadata": {},
   "outputs": [],
   "source": [
    "df['annual_inc_range'] = pd.cut(df['annual_inc'], bins=6, precision=0, labels=[f\"{x-25}K-{x}K\" for x in range(25,175,25)])"
   ]
  },
  {
   "cell_type": "code",
   "execution_count": null,
   "id": "4f2add9d",
   "metadata": {},
   "outputs": [],
   "source": [
    "df['annual_inc_range']"
   ]
  },
  {
   "cell_type": "markdown",
   "id": "f1f79a5f-184d-4a5b-94b2-b823213c493a",
   "metadata": {},
   "source": [
    "##### 7. loan_amnt & funded_amnt\n",
    "\n",
    "loan_amnt is the amount requested by the customer whereas funded_amnt is the approved amount from the LC. So by that logic loan_amnt >= funded_amnt. Lets verify that"
   ]
  },
  {
   "cell_type": "code",
   "execution_count": null,
   "id": "3b9309f7",
   "metadata": {},
   "outputs": [],
   "source": []
  },
  {
   "cell_type": "code",
   "execution_count": null,
   "id": "23e7481b-0e0f-41e9-aae9-f4783a814ded",
   "metadata": {},
   "outputs": [],
   "source": [
    "(df['loan_amnt'] < df['funded_amnt']).sum()"
   ]
  },
  {
   "cell_type": "markdown",
   "id": "96da0588-7d3d-4d54-85e3-feebfb24b3c4",
   "metadata": {},
   "source": [
    "Also by definition loan_amnt & funded_amnt will be highly correlated. We can confirm using the dataset"
   ]
  },
  {
   "cell_type": "code",
   "execution_count": null,
   "id": "f1593da0-2bb0-46f6-b223-b5cf0bcc5f66",
   "metadata": {},
   "outputs": [],
   "source": [
    "df[['loan_amnt', \"funded_amnt\"]].corr()"
   ]
  },
  {
   "cell_type": "code",
   "execution_count": null,
   "id": "8a3ab492",
   "metadata": {},
   "outputs": [],
   "source": [
    "df[['loan_amnt','funded_amnt']].corr()"
   ]
  },
  {
   "cell_type": "code",
   "execution_count": null,
   "id": "c9cd8391-c9ff-45fa-ba11-2d7ffa4a40d8",
   "metadata": {},
   "outputs": [],
   "source": [
    "funding_ratio = df['funded_amnt'] / df['loan_amnt']\n",
    "df = df.drop(['funded_amnt'], axis=1)"
   ]
  },
  {
   "cell_type": "code",
   "execution_count": null,
   "id": "9b8cbea6-6c28-4ba6-bffd-fae16c528d91",
   "metadata": {},
   "outputs": [],
   "source": [
    "funding_ratio.describe()"
   ]
  },
  {
   "cell_type": "markdown",
   "id": "43215ef0-364c-4902-9867-b8011b997e6c",
   "metadata": {},
   "source": [
    "Funding ratio 25 to 75th percentile is 1. So this is heavily skewed towards 1 meaning almost all loans are fully funded. This will not give us any insight. We can drop it"
   ]
  },
  {
   "cell_type": "code",
   "execution_count": null,
   "id": "08e8019a",
   "metadata": {},
   "outputs": [],
   "source": []
  },
  {
   "cell_type": "markdown",
   "id": "550abe00-2c81-4611-ac71-925b110bf5e1",
   "metadata": {},
   "source": [
    "Usually installment depends on the loan_amount. We can check this and if they are highly correlated we can drop installment from analysis"
   ]
  },
  {
   "cell_type": "code",
   "execution_count": null,
   "id": "aaeecbc9-9246-4579-ac1d-0253b36aeddc",
   "metadata": {},
   "outputs": [],
   "source": [
    "df[['loan_amnt', 'installment']].corr()"
   ]
  },
  {
   "cell_type": "code",
   "execution_count": null,
   "id": "f6c1210f-f625-4340-a0d4-075ab919d996",
   "metadata": {},
   "outputs": [],
   "source": [
    "df = df.drop(['installment'], axis=1)"
   ]
  },
  {
   "cell_type": "markdown",
   "id": "72349b3b-91b5-424d-b93c-91107fb35cee",
   "metadata": {},
   "source": [
    "Lets  plot the distribution as a boxplot for loan_amnt in order to identify any outliers here"
   ]
  },
  {
   "cell_type": "code",
   "execution_count": null,
   "id": "01f7947f-5d60-4c7c-8167-ac34a64e2ffb",
   "metadata": {},
   "outputs": [],
   "source": [
    "sns.boxplot(data=df, y='loan_amnt')\n",
    "plt.show()"
   ]
  },
  {
   "cell_type": "markdown",
   "id": "222b28fd-b4bc-417b-aef7-c990d961cda0",
   "metadata": {},
   "source": [
    "There are few outliers all between 30K and 35K. This should be ok to work with"
   ]
  },
  {
   "cell_type": "markdown",
   "id": "62163940-48c2-4664-a430-166b4811dfa5",
   "metadata": {},
   "source": [
    "Loan amount is a continuous variable. It would be good for analysis if we also have loan ranges"
   ]
  },
  {
   "cell_type": "code",
   "execution_count": null,
   "id": "ea943a61-1f5e-499f-a897-11e9f6b6944b",
   "metadata": {},
   "outputs": [],
   "source": [
    "print(f\"Min loan: {df['loan_amnt'].min()} and max income: {df['loan_amnt'].max()}\")"
   ]
  },
  {
   "cell_type": "markdown",
   "id": "5bd90ccb-d06c-4951-bdcf-4fa96ff042ae",
   "metadata": {},
   "source": [
    "Lets create buckets with each bucket having a interval of 5K"
   ]
  },
  {
   "cell_type": "code",
   "execution_count": null,
   "id": "2bffe226-b45e-40f3-b397-1c9146c63385",
   "metadata": {},
   "outputs": [],
   "source": [
    "labels = [f\"{x-10}K-{x}K\" for x in range(10,50,10)]"
   ]
  },
  {
   "cell_type": "code",
   "execution_count": null,
   "id": "5eeea3f4-b289-4c1a-9867-f092fd85744b",
   "metadata": {},
   "outputs": [],
   "source": [
    "df['loan_amnt_range'] =  pd.cut(df['loan_amnt'], bins=len(labels), precision=0, labels=labels)"
   ]
  },
  {
   "cell_type": "markdown",
   "id": "762f5b69-5c11-4c44-90c1-c2cd98b9780e",
   "metadata": {},
   "source": [
    "If we think logically more the annual income, a person can take out more loan amount. We can define loan_ratio as loan_amnt/annual_inc"
   ]
  },
  {
   "cell_type": "code",
   "execution_count": null,
   "id": "20f5c57d-6fcc-478f-9e42-806a53bf7ba4",
   "metadata": {},
   "outputs": [],
   "source": [
    "df['loan_ratio'] = 100 * df['loan_amnt'] / df['annual_inc']"
   ]
  },
  {
   "cell_type": "code",
   "execution_count": null,
   "id": "7f1d591b-5602-4d8f-b0ba-3021c6008b4a",
   "metadata": {},
   "outputs": [],
   "source": [
    "sns.boxplot(data=df, y=\"loan_ratio\")\n",
    "plt.show()"
   ]
  },
  {
   "cell_type": "code",
   "execution_count": null,
   "id": "0fec31b9-1e4f-4b18-abca-7932e8c8ea9b",
   "metadata": {},
   "outputs": [],
   "source": [
    "df['loan_ratio_range'] = pd.cut(df['loan_ratio'], bins=[0,20,40,100], include_lowest=True, labels=[\"0-20%\", \"20-40%\", \"40%+\"]) "
   ]
  },
  {
   "cell_type": "markdown",
   "id": "22615341-66b7-436a-a986-bd8724a246a2",
   "metadata": {},
   "source": [
    "##### 8. dti"
   ]
  },
  {
   "cell_type": "code",
   "execution_count": null,
   "id": "60807fa3-8443-427b-b186-e42b69d1150f",
   "metadata": {},
   "outputs": [],
   "source": [
    "sns.boxplot(data=df, y=\"dti\")\n",
    "plt.show()"
   ]
  },
  {
   "cell_type": "markdown",
   "id": "95cdc711-ad80-46ea-9065-0fb7f6bb3bbe",
   "metadata": {},
   "source": [
    "No outliers here. This is fine"
   ]
  },
  {
   "cell_type": "markdown",
   "id": "20632264-d053-460b-9501-95dd16076ee2",
   "metadata": {},
   "source": [
    "Lets create buckets similar to earlier continuous variables here as well. Here we can directly replace the dti column"
   ]
  },
  {
   "cell_type": "code",
   "execution_count": null,
   "id": "a39975dd-271f-4e6c-af38-30b88f18d955",
   "metadata": {},
   "outputs": [],
   "source": [
    "print(f\"Min dti: {df['dti'].min()} and max dti: {df['dti'].max()}\")"
   ]
  },
  {
   "cell_type": "code",
   "execution_count": null,
   "id": "9a163be6-a59a-4fc2-8c3d-bd13ad05ddf8",
   "metadata": {},
   "outputs": [],
   "source": []
  },
  {
   "cell_type": "code",
   "execution_count": null,
   "id": "34106e35-06a4-477e-8805-409edf77099d",
   "metadata": {},
   "outputs": [],
   "source": [
    "df['dti_range'] =pd.cut(df['dti'], [0, 5, 10, 15, 30] ,labels=['0%-5%', '5%-10%', '10%-15%', \"15%+\"], include_lowest=True)"
   ]
  },
  {
   "cell_type": "code",
   "execution_count": null,
   "id": "d1d53a20-2abc-4fbf-9d5c-1287c028f87a",
   "metadata": {},
   "outputs": [],
   "source": []
  },
  {
   "cell_type": "markdown",
   "id": "1dffb44a-9251-4789-8064-b518b3e01d07",
   "metadata": {},
   "source": [
    "##### 9. open_acc, total_acc"
   ]
  },
  {
   "cell_type": "markdown",
   "id": "1ce73b53-32fc-4eea-9a25-c384fabb614b",
   "metadata": {},
   "source": [
    "total_acc is total credit lines for the customer where as open_acc is the credit lines currently open. Lets validate where open_acc is always less or equal to total_acc"
   ]
  },
  {
   "cell_type": "code",
   "execution_count": null,
   "id": "706d716c-fe23-4493-83a9-87a0016dd154",
   "metadata": {},
   "outputs": [],
   "source": [
    "df[(df['open_acc'] > df['total_acc'])].shape[0]"
   ]
  },
  {
   "cell_type": "code",
   "execution_count": null,
   "id": "cac13c53-1ef6-4ade-b738-d1a0c6d2ae96",
   "metadata": {},
   "outputs": [],
   "source": [
    "df[['total_acc', 'open_acc']].corr()"
   ]
  },
  {
   "cell_type": "markdown",
   "id": "2f9d334b-3eb4-4454-bdc8-6b099084e392",
   "metadata": {},
   "source": [
    "Instead of maintaining two columns we can just define a open_acc_ratio which is open_acc / total_acc to remove correlation. Then we can drop the earlier two columns"
   ]
  },
  {
   "cell_type": "code",
   "execution_count": null,
   "id": "26e8c9b7-a142-4905-8622-4d149b71e5c3",
   "metadata": {},
   "outputs": [],
   "source": [
    "df['open_acc_ratio'] = df['open_acc'] / df['total_acc'] * 100\n",
    "df = df.drop(['open_acc', 'total_acc'], axis=1)"
   ]
  },
  {
   "cell_type": "code",
   "execution_count": null,
   "id": "74d0ac50-f531-467e-a32c-5b84bcc2e6b6",
   "metadata": {},
   "outputs": [],
   "source": [
    "sns.boxplot(data=df, y=\"open_acc_ratio\")\n",
    "plt.plot()"
   ]
  },
  {
   "cell_type": "code",
   "execution_count": null,
   "id": "6b2e1dc6-b9aa-40dc-8ac7-64fa711cac8d",
   "metadata": {},
   "outputs": [],
   "source": [
    "df['open_acc_ratio_range'] = pd.cut(df['open_acc_ratio'], bins=[0,25,50,75,200], precision=0, labels=[\"0%-25%\", \"25%-50%\", \"50%-75%\", \"75%+\"])"
   ]
  },
  {
   "cell_type": "code",
   "execution_count": null,
   "id": "6b8f2ed5-6741-45cf-afae-cd1e9e20263b",
   "metadata": {},
   "outputs": [],
   "source": [
    "df = df.drop(\"open_acc_ratio\", axis=1)"
   ]
  },
  {
   "cell_type": "markdown",
   "id": "1171788d-d332-4bc4-afae-aa53b637a245",
   "metadata": {},
   "source": [
    "##### 10. inq_last_6mths"
   ]
  },
  {
   "cell_type": "code",
   "execution_count": null,
   "id": "d362767b-7d42-4e6a-a5c5-5901dd0a3856",
   "metadata": {},
   "outputs": [],
   "source": [
    "sns.boxplot(data=df, y=\"inq_last_6mths\")\n",
    "plt.plot()"
   ]
  },
  {
   "cell_type": "code",
   "execution_count": null,
   "id": "41b62041-ae3b-455d-84b8-0edb5e732562",
   "metadata": {},
   "outputs": [],
   "source": [
    "df['inq_last_6mths_range'] = pd.cut(df['inq_last_6mths'], bins=[-1,0,10], labels=[\"0\", \"1+\"])"
   ]
  },
  {
   "cell_type": "code",
   "execution_count": null,
   "id": "ee557613-7387-493c-b7d7-31489cd123a1",
   "metadata": {},
   "outputs": [],
   "source": [
    "df = df.drop(\"inq_last_6mths\", axis=1)"
   ]
  },
  {
   "cell_type": "markdown",
   "id": "0bbf43ae-e465-4d61-8a98-60fa09df5c28",
   "metadata": {},
   "source": [
    "##### 11. term"
   ]
  },
  {
   "cell_type": "code",
   "execution_count": null,
   "id": "ebf05978-38e0-4566-9368-b3d275a93b65",
   "metadata": {},
   "outputs": [],
   "source": [
    "df['term'].value_counts()"
   ]
  },
  {
   "cell_type": "markdown",
   "id": "9756f04c-a771-4653-aa41-22ed4cd8194d",
   "metadata": {},
   "source": [
    "Lets convert term which is in month to integer. We can also rename the column to term_months"
   ]
  },
  {
   "cell_type": "code",
   "execution_count": null,
   "id": "644d2126-d278-4410-9298-ed3b47533230",
   "metadata": {},
   "outputs": [],
   "source": [
    "df['term_months'] = df['term'].apply(lambda x : int(x.split(\"months\")[0]))\n",
    "df = df.drop([\"term\"], axis=1)"
   ]
  },
  {
   "cell_type": "markdown",
   "id": "29b278b0-96fe-4346-a9ed-9b1455390fb7",
   "metadata": {},
   "source": [
    "#### 4. Filter data"
   ]
  },
  {
   "cell_type": "markdown",
   "id": "0b57712f-728c-4232-ae8f-b2e27bb3c897",
   "metadata": {},
   "source": [
    "Lets observe the unique values of the target column **loan_status**"
   ]
  },
  {
   "cell_type": "code",
   "execution_count": null,
   "id": "1151f31b-6cb9-410f-877d-f73d2a49dfad",
   "metadata": {},
   "outputs": [],
   "source": [
    "df['loan_status'].value_counts()"
   ]
  },
  {
   "cell_type": "markdown",
   "id": "0dab9b8b-d22d-45e9-b394-abd8b0639ffe",
   "metadata": {},
   "source": [
    "Since the analysis is only for loans Fully Paid / Charged Off we can safely drop rows where loan_status is Current"
   ]
  },
  {
   "cell_type": "code",
   "execution_count": null,
   "id": "a703525a-f9f2-474d-8ad6-3b4204b2ae13",
   "metadata": {},
   "outputs": [],
   "source": [
    "df = df[~(df['loan_status'] == 'Current')]\n",
    "df.shape"
   ]
  },
  {
   "cell_type": "markdown",
   "id": "0690f8a2-878b-4950-a35a-8bd48426bc5c",
   "metadata": {},
   "source": [
    "We started with 39717 rows and 111 columns and after cleaning we are now have 36817 rows and 25 columns. We can now start with the analysis of data to draw inferences"
   ]
  },
  {
   "cell_type": "markdown",
   "id": "61403df0-6a23-49fa-a038-ada1d89caacf",
   "metadata": {},
   "source": [
    "#### Univariate Analysis"
   ]
  },
  {
   "cell_type": "code",
   "execution_count": null,
   "id": "b22681a3-5c83-493c-8585-5d391a9267fa",
   "metadata": {},
   "outputs": [],
   "source": [
    "cont_columns = [\"loan_amnt\", \"annual_inc\", \"int_rate\", \"dti\"]"
   ]
  },
  {
   "cell_type": "code",
   "execution_count": null,
   "id": "a4592e78-a2a1-4727-a14b-18d3e5d602ee",
   "metadata": {},
   "outputs": [],
   "source": [
    "cat_columns = [\"loan_status\",\"grade\", \"exp_level\", \"home_ownership\", \"verification_status\",\"purpose\", \"pub_rec\", \"pub_rec_bankruptcies\",\"int_rate_range\", \"issue_year\", \"issue_month\",\"earliest_cr_line_decade\",\"annual_inc_range\",\"loan_amnt_range\",\"loan_ratio_range\", \"dti_range\",\"open_acc_ratio_range\",\"inq_last_6mths_range\", \"term_months\", \"addr_state\"]"
   ]
  },
  {
   "cell_type": "code",
   "execution_count": null,
   "id": "db0d71f4-75a3-4a30-bbf7-78d54afce9e4",
   "metadata": {},
   "outputs": [],
   "source": []
  },
  {
   "cell_type": "code",
   "execution_count": null,
   "id": "37221461-5c5d-4c43-8e0e-1c91d8dbf487",
   "metadata": {},
   "outputs": [],
   "source": [
    "for i in cont_columns:\n",
    "    sns.histplot(df[i], kde=True, palette=sns.color_palette(\"deep\"))\n",
    "    plt.tight_layout()\n",
    "    plt.title(f\"Univariate Distribution for {i}\")\n",
    "    plt.show()"
   ]
  },
  {
   "cell_type": "code",
   "execution_count": null,
   "id": "d041c473-6ce9-4403-b8f9-1b089d794d0a",
   "metadata": {},
   "outputs": [],
   "source": [
    "for i in cat_columns:\n",
    "    if i == \"addr_state\":\n",
    "        plt.figure(figsize=(18,18))\n",
    "    sns.countplot(data=df, y=i, palette=sns.color_palette(\"deep\"))\n",
    "    plt.title(f\"Univariate Distribution for {i}\")\n",
    "    plt.show()"
   ]
  },
  {
   "cell_type": "markdown",
   "id": "0efaec3f-1691-45c3-9c4c-57aa28f6709c",
   "metadata": {},
   "source": [
    "#### Bivariate / Multivariate Analysis"
   ]
  },
  {
   "cell_type": "code",
   "execution_count": 332,
   "id": "f4d6ef2b-af1d-4514-8a64-61567abcf35b",
   "metadata": {},
   "outputs": [],
   "source": [
    "sns.pairplot(data=df[cont_columns+ [\"loan_status\"]], hue=\"loan_status\")\n",
    "plt.show()"
   ]
  },
  {
   "cell_type": "code",
   "execution_count": null,
   "id": "df94d091-a64d-4b27-a8ed-7af313e0f3a0",
   "metadata": {},
   "outputs": [],
   "source": [
    "def analysis_by_loan_status(df, column, display_name=None, figsize=(15,5), rotate_xticks=False, order=None, top_k=None):\n",
    "    plt.clf()\n",
    "    f,ax = plt.subplots(2, 1, figsize=figsize)\n",
    "    palette = sns.color_palette(\"deep\")\n",
    "    f.subplots_adjust(hspace=0.7)\n",
    "    new_df = df\n",
    "    cent = round(100 * df[df['loan_status'] == \"Charged Off\"][column].value_counts() / df[column].value_counts()).reset_index()\n",
    "    if top_k:\n",
    "        values = df[column].value_counts().sort_values(ascending=False).reset_index().iloc[0:top_k][column].values\n",
    "        new_df = df[df[column].isin(values)]\n",
    "        cent = cent[cent[column].isin(values)]\n",
    "    sns.countplot(data=new_df, y=column, hue=\"loan_status\", ax=ax[0], order=order, palette=palette)\n",
    "    sns.barplot(data=cent, y=column, x=\"count\", ax=ax[1],order=order, palette=palette)\n",
    "    name = display_name if display_name else column\n",
    "    ax[0].set_xlabel(\"Loans issued\")\n",
    "    ax[0].set_ylabel(display_name if display_name else column)\n",
    "    ax[0].set_title(f\"Distribution of Loans by {name}\")\n",
    "    ax[1].set_xlabel(\"Percent Charged Off\")\n",
    "    ax[1].set_ylabel(display_name if display_name else column)\n",
    "    ax[1].set_title(f\"Percent of Loans Charged Off by {name}\")\n",
    "    ax[0].legend(title=\"Loan Status\")\n",
    "    if rotate_xticks:\n",
    "        ax[0].tick_params(axis='x',labelrotation=90)\n",
    "        ax[1].tick_params(axis='x',labelrotation=90)\n",
    "    plt.show()"
   ]
  },
  {
   "cell_type": "code",
   "execution_count": null,
   "id": "2a75ead0-7207-4ce9-920e-b0c7aa900d92",
   "metadata": {
    "scrolled": true
   },
   "outputs": [],
   "source": [
    "analysis_by_loan_status(df, \"int_rate_range\", display_name=\"Interest Rate Range\", figsize=(30,20))"
   ]
  },
  {
   "cell_type": "code",
   "execution_count": null,
   "id": "07256a20-9a35-4c3e-bcaa-3991cf9b0200",
   "metadata": {},
   "outputs": [],
   "source": [
    "sns.boxplot(data=df, y=\"loan_amnt\", hue=\"int_rate_range\")\n",
    "plt.legend(bbox_to_anchor=(1.05, 1.0), loc='upper left')\n",
    "plt.show()"
   ]
  },
  {
   "cell_type": "code",
   "execution_count": null,
   "id": "bfccbb26-567a-4695-98fc-b77d14f782f5",
   "metadata": {},
   "outputs": [],
   "source": [
    "df['issue_year'] = df['issue_year'].astype(\"str\")\n",
    "analysis_by_loan_status(df, \"issue_year\", display_name=\"Issue Year\")"
   ]
  },
  {
   "cell_type": "code",
   "execution_count": null,
   "id": "b68a3f54-ba48-4fdb-9be8-adaad967f0a6",
   "metadata": {},
   "outputs": [],
   "source": [
    "analysis_by_loan_status(df, \"loan_ratio_range\", display_name=\"Loan to Income Ratio\")"
   ]
  },
  {
   "cell_type": "code",
   "execution_count": null,
   "id": "c58605e4-afb2-4e12-be3a-c5b1def19901",
   "metadata": {},
   "outputs": [],
   "source": [
    "analysis_by_loan_status(df, \"grade\", display_name=\"Grade\")"
   ]
  },
  {
   "cell_type": "code",
   "execution_count": null,
   "id": "571bb36c-928e-4191-846c-27b6d7f5d629",
   "metadata": {},
   "outputs": [],
   "source": [
    "sns.boxplot(data=df, y=\"loan_amnt\", hue=\"grade\", hue_order=[\"A\",\"B\",\"C\",\"D\", \"E\", \"F\", \"G\"])\n",
    "plt.legend(bbox_to_anchor=(1.05, 1.0), loc='upper left')\n",
    "plt.show()"
   ]
  },
  {
   "cell_type": "code",
   "execution_count": null,
   "id": "c3b3a830-7e76-40cf-978f-54e81e7aa63b",
   "metadata": {},
   "outputs": [],
   "source": [
    "analysis_by_loan_status(df, \"addr_state\", display_name=\"State\", top_k=11) # Lot of states. Lets take top 11 which has more than 1K loans issued"
   ]
  },
  {
   "cell_type": "code",
   "execution_count": null,
   "id": "ef00f55e-9a73-46dc-a984-65a818968782",
   "metadata": {
    "scrolled": true
   },
   "outputs": [],
   "source": [
    "analysis_by_loan_status(df, \"purpose\", display_name=\"Purpose\", figsize=(20,10))"
   ]
  },
  {
   "cell_type": "code",
   "execution_count": null,
   "id": "44033ed1-6c77-438c-accc-0e2c7ce839ef",
   "metadata": {},
   "outputs": [],
   "source": [
    "sns.boxplot(data=df, y=\"loan_amnt\", hue=\"purpose\")\n",
    "plt.legend(bbox_to_anchor=(1.05, 1.0), loc='upper left')\n",
    "plt.show()"
   ]
  },
  {
   "cell_type": "code",
   "execution_count": null,
   "id": "ff70f6a0-fdfe-48dd-a0a6-e86a3af35f12",
   "metadata": {},
   "outputs": [],
   "source": [
    "analysis_by_loan_status(df, \"annual_inc_range\", display_name=\"Annual Income Range\")"
   ]
  },
  {
   "cell_type": "code",
   "execution_count": null,
   "id": "87d70ec8-55ee-4a5e-9197-8e27d4bd1471",
   "metadata": {},
   "outputs": [],
   "source": [
    "analysis_by_loan_status(df, \"loan_amnt_range\", display_name=\"Loan Amount Range\")"
   ]
  },
  {
   "cell_type": "code",
   "execution_count": null,
   "id": "704a21b9-3c88-4f9f-8560-d7f98281fd43",
   "metadata": {},
   "outputs": [],
   "source": [
    "def plot_categorical_data(data, category_column, hue_column=None, description=''):\n",
    "    sns.set_style(\"whitegrid\")\n",
    "    sns.set_context(\"talk\")\n",
    "    fig, ax = plt.subplots(figsize=(12, 6))\n",
    "    plot = sns.countplot(data=data, x=category_column, hue=hue_column, palette=\"Set2\")\n",
    "\n",
    "    total_count = len(data)\n",
    "    for p in plot.patches:\n",
    "        percentage = (p.get_height() / total_count) * 100\n",
    "        ax.annotate('{:.1f}%'.format(percentage), (p.get_x() + p.get_width() / 2, p.get_height() + 10),\n",
    "                    ha='center', fontsize=12)\n",
    "\n",
    "    plt.xlabel(category_column)\n",
    "    plt.ylabel(f\"Count\" )\n",
    "    plt.title(f\"Categorical Data Distribution of {description}\")\n",
    "    plt.legend(title=hue_column)\n",
    "    plt.tight_layout()\n",
    "    plt.show()"
   ]
  },
  {
   "cell_type": "code",
   "execution_count": null,
   "id": "12fcc37c",
   "metadata": {},
   "outputs": [],
   "source": [
    "cont_columns"
   ]
  },
  {
   "cell_type": "code",
   "execution_count": null,
   "id": "68bb9162-45ef-474b-aacf-d99ea9fb3090",
   "metadata": {},
   "outputs": [],
   "source": [
    "plot_categorical_data(df,'open_acc_ratio_range', 'loan_status', 'Open Account Ratio Range')"
   ]
  },
  {
   "cell_type": "code",
   "execution_count": null,
   "id": "7fc76e5a",
   "metadata": {},
   "outputs": [],
   "source": [
    "plot_categorical_data(df,'earliest_cr_line_decade', 'loan_status' ,\"Earliest Credit Line - Every 10 years\")"
   ]
  },
  {
   "cell_type": "code",
   "execution_count": null,
   "id": "faf04fcd",
   "metadata": {},
   "outputs": [],
   "source": [
    "cont_columns"
   ]
  },
  {
   "cell_type": "code",
   "execution_count": null,
   "id": "2b25ae1d",
   "metadata": {},
   "outputs": [],
   "source": [
    "def bivariate_continuos(df,x_var):\n",
    "    plt.figure(figsize=(10, 6))\n",
    "    sns.boxplot(x=x_var, y='loan_status', data=df, palette='Set2')\n",
    "\n",
    "    # Add labels and a title\n",
    "    plt.xlabel(x_var)\n",
    "    plt.ylabel('Loan Status')\n",
    "    plt.title(f'Bivariate Boxplot Analysis for {x_var} with Loan Status')\n",
    "\n",
    "    # Show the plot\n",
    "    plt.tight_layout()\n",
    "    return plt.show()\n",
    "\n"
   ]
  },
  {
   "cell_type": "code",
   "execution_count": null,
   "id": "3638065e",
   "metadata": {},
   "outputs": [],
   "source": [
    "for x_var in cont_columns:\n",
    "    bivariate_continuos(df,x_var)"
   ]
  },
  {
   "cell_type": "code",
   "execution_count": null,
   "id": "8c8406ad-72e4-4485-bf2e-c2bd487350dc",
   "metadata": {},
   "outputs": [],
   "source": []
  },
  {
   "cell_type": "code",
   "execution_count": null,
   "id": "d0bd3a96-ba48-4581-811a-2d6a9f3cf289",
   "metadata": {},
   "outputs": [],
   "source": []
  }
 ],
 "metadata": {
  "kernelspec": {
   "display_name": "Python 3 (ipykernel)",
   "language": "python",
   "name": "python3"
  },
  "language_info": {
   "codemirror_mode": {
    "name": "ipython",
    "version": 3
   },
   "file_extension": ".py",
   "mimetype": "text/x-python",
   "name": "python",
   "nbconvert_exporter": "python",
   "pygments_lexer": "ipython3",
   "version": "3.10.13"
  }
 },
 "nbformat": 4,
 "nbformat_minor": 5
}
